{
 "cells": [
  {
   "cell_type": "code",
   "execution_count": 31,
   "id": "32673e94",
   "metadata": {},
   "outputs": [
    {
     "name": "stdout",
     "output_type": "stream",
     "text": [
      "<Response [200]>\n",
      "{'Consultas': {'Data da Consulta': '08/05/2023', 'Paciente': 'Rafael Ribeiro', 'Profissional da consulta:': 'João Carvalho', 'Profissão do Profissional': 'Médico'}, 'Profissional': {'ID_01': {'Especialidade': 'Médico', 'Nome': 'João Carvalho'}}}\n"
     ]
    }
   ],
   "source": [
    "import requests\n",
    "import json\n",
    "\n",
    "requisicao = requests.get('https://apilacrei-default-rtdb.firebaseio.com/.json')\n",
    "\n",
    "print(requisicao)\n",
    "print(requisicao.json())"
   ]
  },
  {
   "cell_type": "markdown",
   "id": "084cc94c",
   "metadata": {},
   "source": [
    "### Profissional"
   ]
  },
  {
   "cell_type": "code",
   "execution_count": 69,
   "id": "6e8ee116",
   "metadata": {
    "scrolled": true
   },
   "outputs": [
    {
     "name": "stdout",
     "output_type": "stream",
     "text": [
      "<Response [200]>\n",
      "{'name': '-NRtE8EBtwnlQVrS9ZRa'}\n",
      "<Response [200]>\n",
      "{'name': '-NRtE8N2wutmJ6ChWpn9'}\n"
     ]
    }
   ],
   "source": [
    "#POST - Cadastrar\n",
    "cadastrando_dict = '{\"Nome\": \"Roberto Carlos\", \"Especialidade\": \"Medicina\"}'\n",
    "\n",
    "requisicao = requests.post(\"https://apilacrei-default-rtdb.firebaseio.com/Profissional.json\", data=cadastrando_dict)\n",
    "\n",
    "print(requisicao)\n",
    "print(requisicao.json())\n",
    "\n",
    "cadastrando_dict = '{\"Nome\": \"Maria da Silva\", \"Especialidade\": \"Nutricao\"}'\n",
    "\n",
    "requisicao = requests.post(\"https://apilacrei-default-rtdb.firebaseio.com/Profissional.json\", data=cadastrando_dict)\n",
    "\n",
    "print(requisicao)\n",
    "print(requisicao.json())"
   ]
  },
  {
   "cell_type": "code",
   "execution_count": 70,
   "id": "360d0541",
   "metadata": {},
   "outputs": [
    {
     "name": "stdout",
     "output_type": "stream",
     "text": [
      "<Response [200]>\n",
      "{'Nome': 'Maria da Conceicao', 'Especialidade': 'Fisioterapia'}\n"
     ]
    }
   ],
   "source": [
    "#PATCH - Editar\n",
    "editando_dict = '{\"Nome\": \"Maria da Conceicao\", \"Especialidade\": \"Fisioterapia\"}'\n",
    "\n",
    "requisicao = requests.patch(\"https://apilacrei-default-rtdb.firebaseio.com/Profissional/-NRtE8N2wutmJ6ChWpn9.json\", data=editando_dict)\n",
    "\n",
    "print(requisicao)\n",
    "print(requisicao.json())"
   ]
  },
  {
   "cell_type": "code",
   "execution_count": 71,
   "id": "5710802d",
   "metadata": {},
   "outputs": [
    {
     "name": "stdout",
     "output_type": "stream",
     "text": [
      "<Response [200]>\n",
      "None\n"
     ]
    }
   ],
   "source": [
    "#DELETE - Deletar\n",
    "requisicao = requests.delete(\"https://apilacrei-default-rtdb.firebaseio.com/Profissional/-NRtE8N2wutmJ6ChWpn9.json\", data=editando_dict)\n",
    "\n",
    "print(requisicao)\n",
    "print(requisicao.json())"
   ]
  },
  {
   "cell_type": "markdown",
   "id": "06b9bdc4",
   "metadata": {},
   "source": [
    "### Consultas"
   ]
  },
  {
   "cell_type": "code",
   "execution_count": 75,
   "id": "878b9d90",
   "metadata": {},
   "outputs": [
    {
     "name": "stdout",
     "output_type": "stream",
     "text": [
      "<Response [200]>\n",
      "{'name': '-NRtFs2vJ07fVvXuX-i8'}\n",
      "<Response [200]>\n",
      "{'name': '-NRtFsBv5g34K_dFCki1'}\n"
     ]
    }
   ],
   "source": [
    "#POST - Cadastrar\n",
    "cadastrando_dict = '{\"Paciente\": \"Rafael de Souza\", \"Data da Consulta\": \"08/05/2023\" ,\"Nome do Profissional\": \"Roberto Carlos\", \"Especialidade\": \"Medicina\"}'\n",
    "\n",
    "requisicao = requests.post(\"https://apilacrei-default-rtdb.firebaseio.com/Consulta.json\", data=cadastrando_dict)\n",
    "\n",
    "print(requisicao)\n",
    "print(requisicao.json())\n",
    "\n",
    "cadastrando_dict = '{\"Paciente\": \"Fernanda de Pontes\", \"Data da Consulta\": \"25/06/2023\" , \"Nome do Profissional\": \"Maria da Silva\", \"Especialidade\": \"Nutricao\"}'\n",
    "\n",
    "requisicao = requests.post(\"https://apilacrei-default-rtdb.firebaseio.com/Consulta.json\", data=cadastrando_dict)\n",
    "\n",
    "print(requisicao)\n",
    "print(requisicao.json())"
   ]
  },
  {
   "cell_type": "code",
   "execution_count": 77,
   "id": "cd612ec7",
   "metadata": {},
   "outputs": [
    {
     "name": "stdout",
     "output_type": "stream",
     "text": [
      "<Response [200]>\n",
      "{'Paciente': 'Rose das Luzes', 'Data da Consulta': '15/08/2023', 'Nome do Profissional': 'Maria da Silva', 'Especialidade': 'Nutricao'}\n"
     ]
    }
   ],
   "source": [
    "#PATCH - Editar\n",
    "editando_dict = '{\"Paciente\": \"Rose das Luzes\", \"Data da Consulta\": \"15/08/2023\" , \"Nome do Profissional\": \"Maria da Silva\", \"Especialidade\": \"Nutricao\"}'\n",
    "\n",
    "requisicao = requests.patch(\"https://apilacrei-default-rtdb.firebaseio.com/Consulta/-NRtFsBv5g34K_dFCki1.json\", data=editando_dict)\n",
    "\n",
    "print(requisicao)\n",
    "print(requisicao.json())"
   ]
  },
  {
   "cell_type": "code",
   "execution_count": 78,
   "id": "9f4b4437",
   "metadata": {},
   "outputs": [
    {
     "name": "stdout",
     "output_type": "stream",
     "text": [
      "<Response [200]>\n",
      "None\n"
     ]
    }
   ],
   "source": [
    "#DELETE - Deletar\n",
    "requisicao = requests.delete(\"https://apilacrei-default-rtdb.firebaseio.com/Consulta/-NRtFsBv5g34K_dFCki1.json\")\n",
    "\n",
    "print(requisicao)\n",
    "print(requisicao.json())"
   ]
  },
  {
   "cell_type": "markdown",
   "id": "676e0b38",
   "metadata": {},
   "source": [
    "### Pesquisar - Consulta"
   ]
  },
  {
   "cell_type": "code",
   "execution_count": 79,
   "id": "fe5366fb",
   "metadata": {},
   "outputs": [
    {
     "name": "stdout",
     "output_type": "stream",
     "text": [
      "<Response [200]>\n",
      "{'-NRtFgKpYXTBHzJ8A-8I': {'Data da Consulta': '25/06/2023', 'Especialidade': 'Nutricao', 'Nome': 'Maria da Silva', 'Paciente': 'Fernanda de Pontes'}, '-NRtFs2vJ07fVvXuX-i8': {'Data da Consulta': '08/05/2023', 'Especialidade': 'Medicina', 'Nome do Profissional': 'Roberto Carlos', 'Paciente': 'Rafael de Souza'}}\n"
     ]
    }
   ],
   "source": [
    "requisicao = requests.get('https://apilacrei-default-rtdb.firebaseio.com/Consulta.json')\n",
    "\n",
    "print(requisicao)\n",
    "print(requisicao.json())\n"
   ]
  }
 ],
 "metadata": {
  "kernelspec": {
   "display_name": "Python 3 (ipykernel)",
   "language": "python",
   "name": "python3"
  },
  "language_info": {
   "codemirror_mode": {
    "name": "ipython",
    "version": 3
   },
   "file_extension": ".py",
   "mimetype": "text/x-python",
   "name": "python",
   "nbconvert_exporter": "python",
   "pygments_lexer": "ipython3",
   "version": "3.9.13"
  }
 },
 "nbformat": 4,
 "nbformat_minor": 5
}
